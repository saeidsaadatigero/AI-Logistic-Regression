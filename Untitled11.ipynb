{
  "nbformat": 4,
  "nbformat_minor": 0,
  "metadata": {
    "colab": {
      "provenance": [],
      "include_colab_link": true
    },
    "kernelspec": {
      "name": "python3",
      "display_name": "Python 3"
    },
    "language_info": {
      "name": "python"
    }
  },
  "cells": [
    {
      "cell_type": "markdown",
      "metadata": {
        "id": "view-in-github",
        "colab_type": "text"
      },
      "source": [
        "<a href=\"https://colab.research.google.com/github/saeidsaadatigero/AI-Logistic-Regression/blob/main/Untitled11.ipynb\" target=\"_parent\"><img src=\"https://colab.research.google.com/assets/colab-badge.svg\" alt=\"Open In Colab\"/></a>"
      ]
    },
    {
      "cell_type": "code",
      "execution_count": null,
      "metadata": {
        "id": "akgDCkQCCXY1"
      },
      "outputs": [],
      "source": [
        "from sklearn.datasets import make_classification\n",
        "\n",
        "X, y = make_classification(\n",
        "    n_features=6,\n",
        "    n_classes=3,\n",
        "    n_samples=800,\n",
        "    n_informative=2,\n",
        "    random_state=1,\n",
        "    n_clusters_per_class=1,\n",
        ")"
      ]
    },
    {
      "cell_type": "code",
      "source": [
        "print(\"Features (X):\")\n",
        "print(X)\n",
        "\n",
        "print(\"Labels (y):\")\n",
        "print(y)"
      ],
      "metadata": {
        "colab": {
          "base_uri": "https://localhost:8080/"
        },
        "id": "yR_OC7d7MHvQ",
        "outputId": "5846a14e-60a1-4a3c-86bf-03e98ab7dfeb"
      },
      "execution_count": null,
      "outputs": [
        {
          "output_type": "stream",
          "name": "stdout",
          "text": [
            "Features (X):\n",
            "[[ 1.34076287 -1.21573796 -0.06929943  0.84542643 -0.76549575 -1.31889683]\n",
            " [ 0.49869261 -0.23490061 -0.43071779  0.75949359 -0.42755223 -1.10296955]\n",
            " [-0.83870221  1.11953787 -0.62576716 -0.92699247  0.24284264  0.75537433]\n",
            " ...\n",
            " [ 1.44604798 -1.04922808 -0.56296398 -0.15364732 -0.99780991  0.81598915]\n",
            " [ 0.41410711 -0.65405841  0.49773464 -2.45291986 -0.05332349 -0.04538256]\n",
            " [ 0.92293213 -0.79973894 -0.11690007 -1.33230529 -0.55134594 -0.37302019]]\n",
            "Labels (y):\n",
            "[1 0 2 0 1 1 2 2 1 0 1 2 1 0 0 0 0 1 1 2 0 0 0 1 1 2 1 0 0 0 2 2 2 2 1 0 2\n",
            " 2 0 1 2 0 0 0 2 1 2 1 1 0 2 2 2 1 2 2 1 2 0 0 1 2 1 2 0 2 2 2 0 0 1 1 1 1\n",
            " 2 2 1 1 2 1 1 2 1 2 0 1 2 1 2 0 0 1 0 1 1 0 0 2 0 1 2 2 1 0 0 1 2 1 1 0 0\n",
            " 1 0 0 0 1 2 0 1 2 1 2 0 2 1 0 0 1 2 2 0 2 1 0 2 1 1 1 0 0 2 2 1 2 2 0 0 1\n",
            " 1 0 0 1 0 0 1 2 0 1 0 2 1 0 0 0 1 1 2 2 1 0 2 1 0 2 2 0 2 2 1 0 1 1 1 0 2\n",
            " 0 2 0 1 1 2 2 2 2 1 0 1 1 0 1 1 1 0 0 0 2 2 1 2 0 1 0 2 2 0 1 2 2 0 1 0 1\n",
            " 1 2 2 0 1 1 0 2 1 0 1 2 1 1 1 1 0 0 2 2 1 2 2 2 0 2 1 1 0 1 2 1 0 0 1 2 0\n",
            " 2 1 1 1 1 1 2 1 0 2 1 1 1 2 0 0 2 2 0 0 1 1 2 0 0 1 0 0 0 0 2 1 2 2 0 0 0\n",
            " 2 1 2 2 1 0 0 1 2 1 0 2 2 0 0 1 1 0 2 0 1 2 0 0 1 1 0 0 2 0 1 1 0 2 2 2 2\n",
            " 0 0 2 2 2 2 0 2 0 1 0 2 2 2 0 2 2 2 2 2 2 2 2 2 2 1 1 1 2 0 0 1 2 2 1 0 2\n",
            " 1 2 1 0 0 1 1 0 0 0 1 0 1 1 2 1 0 2 0 1 2 1 1 1 0 2 1 0 1 2 2 0 1 2 2 2 2\n",
            " 1 0 0 0 2 0 0 0 1 1 0 0 1 2 2 2 1 1 1 1 2 2 0 2 2 1 0 2 2 2 1 1 2 2 0 2 2\n",
            " 2 0 0 0 0 1 2 0 0 1 1 2 1 0 1 1 0 2 0 2 0 2 0 1 1 0 0 2 1 0 2 2 0 1 2 2 1\n",
            " 0 2 0 1 1 0 2 1 1 1 1 1 2 1 1 0 1 1 1 0 2 0 1 2 0 1 1 2 2 2 2 1 0 1 2 1 2\n",
            " 1 1 2 1 1 0 0 2 2 1 0 0 2 2 0 1 1 0 1 1 2 0 1 2 2 1 2 1 2 2 0 1 2 2 2 1 1\n",
            " 2 2 1 0 0 0 2 1 1 2 0 0 2 0 1 0 2 1 0 2 2 2 1 0 1 0 2 2 2 2 1 0 1 1 1 2 1\n",
            " 1 1 1 0 0 0 0 2 1 2 2 0 2 0 0 1 0 2 0 0 1 1 0 0 1 0 0 0 1 1 2 2 0 1 0 2 0\n",
            " 1 1 2 0 0 2 0 0 2 2 1 2 1 0 1 1 2 1 0 2 2 2 2 2 1 0 1 0 1 0 2 0 1 0 0 0 1\n",
            " 0 0 2 2 1 2 1 2 1 0 0 1 0 1 1 1 2 2 1 1 1 0 2 0 2 2 2 0 2 2 0 1 1 2 1 0 1\n",
            " 1 2 1 1 0 0 0 0 0 0 0 2 2 1 1 0 0 0 0 0 1 1 2 1 2 1 0 0 2 1 0 0 1 1 0 1 0\n",
            " 2 2 0 2 2 1 0 1 2 2 0 1 1 1 0 0 2 0 2 2 2 2 1 0 0 0 1 0 2 1 1 0 0 2 2 0 0\n",
            " 2 0 1 0 2 2 1 0 0 2 1 1 0 1 0 2 2 2 2 0 1 2 0]\n"
          ]
        }
      ]
    },
    {
      "cell_type": "markdown",
      "source": [
        "در کد ارائه شده، داده‌ها به کمک تابع make_classification از کتابخانه sklearn.datasets ایجاد می‌شوند. این تابع برای تولید مجموعه‌های داده تصادفی برای مسائل دسته‌بندی استفاده می‌شود. داده‌های تولید شده به صورت ماتریسی برای ویژگی‌ها (X) و برداری برای برچسب‌ها (y) ذخیره می‌شوند.\n",
        "\n",
        "در اینجا پارامترهای مختلفی برای تولید داده‌ها مشخص شده‌اند:\n",
        "\n",
        "n_features=6: تعداد ویژگی‌های هر نمونه از داده‌ها، که در اینجا ۶ ویژگی است.\n",
        "n_classes=3: تعداد کلاس‌های موجود در داده‌ها، که در اینجا ۳ کلاس است.\n",
        "n_samples=800: تعداد کل نمونه‌ها، که در اینجا ۸۰۰ نمونه است.\n",
        "n_informative=2: تعداد ویژگی‌های اطلاعاتی که برای ایجاد تفکیک بین کلاس‌ها استفاده می‌شود، در اینجا ۲ ویژگی است.\n",
        "random_state=1: برای تولید داده‌ها به صورت تصادفی، از یک عدد تصادفی به نام seed استفاده می‌شود که با استفاده از این پارامتر قابل تنظیم است.\n",
        "n_clusters_per_class=1: تعداد خوشه‌هایی که برای هر کلاس وجود دارد، در اینجا برای هر کلاس یک خوشه است."
      ],
      "metadata": {
        "id": "acQj-dDSNpKz"
      }
    },
    {
      "cell_type": "markdown",
      "source": [
        "تقسیم داده ها به تست و آموزش"
      ],
      "metadata": {
        "id": "r3T1dzUOCjTU"
      }
    },
    {
      "cell_type": "code",
      "source": [
        "from sklearn.model_selection import train_test_split\n",
        "\n",
        "X_train, X_test, y_train, y_test = train_test_split(\n",
        "    X, y, test_size=0.33, random_state=125)"
      ],
      "metadata": {
        "id": "UVNEPfcJCoZi"
      },
      "execution_count": null,
      "outputs": []
    },
    {
      "cell_type": "markdown",
      "source": [
        "استفاده از نایو بیز و آموزش آن با استفاده از داده آموزش سپس آزمایش مدل با داده تست"
      ],
      "metadata": {
        "id": "hjN95AumDY_h"
      }
    },
    {
      "cell_type": "code",
      "source": [
        "from sklearn.naive_bayes import GaussianNB\n",
        "\n",
        "# Build a Gaussian Classifier\n",
        "model = GaussianNB()\n",
        "\n",
        "# Model training\n",
        "model.fit(X_train, y_train)\n",
        "\n",
        "# Predict Output\n",
        "predicted = model.predict([X_test[6]])\n",
        "\n",
        "print(\"Actual Value:\", y_test[6])\n",
        "print(\"Predicted Value:\", predicted[0])"
      ],
      "metadata": {
        "colab": {
          "base_uri": "https://localhost:8080/"
        },
        "id": "AF5YY-QDDiV6",
        "outputId": "d99f59bf-1993-42c2-9543-9b70e5c25ada"
      },
      "execution_count": null,
      "outputs": [
        {
          "output_type": "stream",
          "name": "stdout",
          "text": [
            "Actual Value: 0\n",
            "Predicted Value: 0\n"
          ]
        }
      ]
    },
    {
      "cell_type": "markdown",
      "source": [
        "تست مدل برای داده ناشناخته"
      ],
      "metadata": {
        "id": "nlnGhkyIEFTh"
      }
    },
    {
      "cell_type": "code",
      "source": [
        "from sklearn.metrics import (\n",
        "    accuracy_score,\n",
        "    confusion_matrix,\n",
        "    ConfusionMatrixDisplay,\n",
        "    f1_score,\n",
        ")\n",
        "\n",
        "y_pred = model.predict(X_test)\n",
        "accuray = accuracy_score(y_pred, y_test)\n",
        "f1 = f1_score(y_pred, y_test, average=\"weighted\")\n",
        "\n",
        "print(\"Accuracy:\", accuray)\n",
        "print(\"F1 Score:\", f1)"
      ],
      "metadata": {
        "colab": {
          "base_uri": "https://localhost:8080/"
        },
        "id": "luTC1vEQEEJB",
        "outputId": "451d7a57-da15-49f8-8d3e-cf6e76cadb9c"
      },
      "execution_count": null,
      "outputs": [
        {
          "output_type": "stream",
          "name": "stdout",
          "text": [
            "Accuracy: 0.8484848484848485\n",
            "F1 Score: 0.8491119695890328\n"
          ]
        }
      ]
    },
    {
      "cell_type": "markdown",
      "source": [
        "تشخیص مشتری هایی که پرداخت کامل داشتن و نداشتن"
      ],
      "metadata": {
        "id": "p2-ebkfMGZwo"
      }
    },
    {
      "cell_type": "code",
      "source": [
        "import pandas as pd\n",
        "\n",
        "\n",
        "df = pd.read_csv('loan_data.csv')\n",
        "df.head()"
      ],
      "metadata": {
        "colab": {
          "base_uri": "https://localhost:8080/",
          "height": 348
        },
        "id": "NjXwbXSUGfs5",
        "outputId": "6069b78a-f179-42c6-d15c-4c79b5cc16f3"
      },
      "execution_count": null,
      "outputs": [
        {
          "output_type": "error",
          "ename": "FileNotFoundError",
          "evalue": "[Errno 2] No such file or directory: 'loan_data.csv'",
          "traceback": [
            "\u001b[0;31m---------------------------------------------------------------------------\u001b[0m",
            "\u001b[0;31mFileNotFoundError\u001b[0m                         Traceback (most recent call last)",
            "\u001b[0;32m<ipython-input-6-a6a291088f17>\u001b[0m in \u001b[0;36m<cell line: 4>\u001b[0;34m()\u001b[0m\n\u001b[1;32m      2\u001b[0m \u001b[0;34m\u001b[0m\u001b[0m\n\u001b[1;32m      3\u001b[0m \u001b[0;34m\u001b[0m\u001b[0m\n\u001b[0;32m----> 4\u001b[0;31m \u001b[0mdf\u001b[0m \u001b[0;34m=\u001b[0m \u001b[0mpd\u001b[0m\u001b[0;34m.\u001b[0m\u001b[0mread_csv\u001b[0m\u001b[0;34m(\u001b[0m\u001b[0;34m'loan_data.csv'\u001b[0m\u001b[0;34m)\u001b[0m\u001b[0;34m\u001b[0m\u001b[0;34m\u001b[0m\u001b[0m\n\u001b[0m\u001b[1;32m      5\u001b[0m \u001b[0mdf\u001b[0m\u001b[0;34m.\u001b[0m\u001b[0mhead\u001b[0m\u001b[0;34m(\u001b[0m\u001b[0;34m)\u001b[0m\u001b[0;34m\u001b[0m\u001b[0;34m\u001b[0m\u001b[0m\n",
            "\u001b[0;32m/usr/local/lib/python3.10/dist-packages/pandas/io/parsers/readers.py\u001b[0m in \u001b[0;36mread_csv\u001b[0;34m(filepath_or_buffer, sep, delimiter, header, names, index_col, usecols, dtype, engine, converters, true_values, false_values, skipinitialspace, skiprows, skipfooter, nrows, na_values, keep_default_na, na_filter, verbose, skip_blank_lines, parse_dates, infer_datetime_format, keep_date_col, date_parser, date_format, dayfirst, cache_dates, iterator, chunksize, compression, thousands, decimal, lineterminator, quotechar, quoting, doublequote, escapechar, comment, encoding, encoding_errors, dialect, on_bad_lines, delim_whitespace, low_memory, memory_map, float_precision, storage_options, dtype_backend)\u001b[0m\n\u001b[1;32m    910\u001b[0m     \u001b[0mkwds\u001b[0m\u001b[0;34m.\u001b[0m\u001b[0mupdate\u001b[0m\u001b[0;34m(\u001b[0m\u001b[0mkwds_defaults\u001b[0m\u001b[0;34m)\u001b[0m\u001b[0;34m\u001b[0m\u001b[0;34m\u001b[0m\u001b[0m\n\u001b[1;32m    911\u001b[0m \u001b[0;34m\u001b[0m\u001b[0m\n\u001b[0;32m--> 912\u001b[0;31m     \u001b[0;32mreturn\u001b[0m \u001b[0m_read\u001b[0m\u001b[0;34m(\u001b[0m\u001b[0mfilepath_or_buffer\u001b[0m\u001b[0;34m,\u001b[0m \u001b[0mkwds\u001b[0m\u001b[0;34m)\u001b[0m\u001b[0;34m\u001b[0m\u001b[0;34m\u001b[0m\u001b[0m\n\u001b[0m\u001b[1;32m    913\u001b[0m \u001b[0;34m\u001b[0m\u001b[0m\n\u001b[1;32m    914\u001b[0m \u001b[0;34m\u001b[0m\u001b[0m\n",
            "\u001b[0;32m/usr/local/lib/python3.10/dist-packages/pandas/io/parsers/readers.py\u001b[0m in \u001b[0;36m_read\u001b[0;34m(filepath_or_buffer, kwds)\u001b[0m\n\u001b[1;32m    575\u001b[0m \u001b[0;34m\u001b[0m\u001b[0m\n\u001b[1;32m    576\u001b[0m     \u001b[0;31m# Create the parser.\u001b[0m\u001b[0;34m\u001b[0m\u001b[0;34m\u001b[0m\u001b[0m\n\u001b[0;32m--> 577\u001b[0;31m     \u001b[0mparser\u001b[0m \u001b[0;34m=\u001b[0m \u001b[0mTextFileReader\u001b[0m\u001b[0;34m(\u001b[0m\u001b[0mfilepath_or_buffer\u001b[0m\u001b[0;34m,\u001b[0m \u001b[0;34m**\u001b[0m\u001b[0mkwds\u001b[0m\u001b[0;34m)\u001b[0m\u001b[0;34m\u001b[0m\u001b[0;34m\u001b[0m\u001b[0m\n\u001b[0m\u001b[1;32m    578\u001b[0m \u001b[0;34m\u001b[0m\u001b[0m\n\u001b[1;32m    579\u001b[0m     \u001b[0;32mif\u001b[0m \u001b[0mchunksize\u001b[0m \u001b[0;32mor\u001b[0m \u001b[0miterator\u001b[0m\u001b[0;34m:\u001b[0m\u001b[0;34m\u001b[0m\u001b[0;34m\u001b[0m\u001b[0m\n",
            "\u001b[0;32m/usr/local/lib/python3.10/dist-packages/pandas/io/parsers/readers.py\u001b[0m in \u001b[0;36m__init__\u001b[0;34m(self, f, engine, **kwds)\u001b[0m\n\u001b[1;32m   1405\u001b[0m \u001b[0;34m\u001b[0m\u001b[0m\n\u001b[1;32m   1406\u001b[0m         \u001b[0mself\u001b[0m\u001b[0;34m.\u001b[0m\u001b[0mhandles\u001b[0m\u001b[0;34m:\u001b[0m \u001b[0mIOHandles\u001b[0m \u001b[0;34m|\u001b[0m \u001b[0;32mNone\u001b[0m \u001b[0;34m=\u001b[0m \u001b[0;32mNone\u001b[0m\u001b[0;34m\u001b[0m\u001b[0;34m\u001b[0m\u001b[0m\n\u001b[0;32m-> 1407\u001b[0;31m         \u001b[0mself\u001b[0m\u001b[0;34m.\u001b[0m\u001b[0m_engine\u001b[0m \u001b[0;34m=\u001b[0m \u001b[0mself\u001b[0m\u001b[0;34m.\u001b[0m\u001b[0m_make_engine\u001b[0m\u001b[0;34m(\u001b[0m\u001b[0mf\u001b[0m\u001b[0;34m,\u001b[0m \u001b[0mself\u001b[0m\u001b[0;34m.\u001b[0m\u001b[0mengine\u001b[0m\u001b[0;34m)\u001b[0m\u001b[0;34m\u001b[0m\u001b[0;34m\u001b[0m\u001b[0m\n\u001b[0m\u001b[1;32m   1408\u001b[0m \u001b[0;34m\u001b[0m\u001b[0m\n\u001b[1;32m   1409\u001b[0m     \u001b[0;32mdef\u001b[0m \u001b[0mclose\u001b[0m\u001b[0;34m(\u001b[0m\u001b[0mself\u001b[0m\u001b[0;34m)\u001b[0m \u001b[0;34m->\u001b[0m \u001b[0;32mNone\u001b[0m\u001b[0;34m:\u001b[0m\u001b[0;34m\u001b[0m\u001b[0;34m\u001b[0m\u001b[0m\n",
            "\u001b[0;32m/usr/local/lib/python3.10/dist-packages/pandas/io/parsers/readers.py\u001b[0m in \u001b[0;36m_make_engine\u001b[0;34m(self, f, engine)\u001b[0m\n\u001b[1;32m   1659\u001b[0m                 \u001b[0;32mif\u001b[0m \u001b[0;34m\"b\"\u001b[0m \u001b[0;32mnot\u001b[0m \u001b[0;32min\u001b[0m \u001b[0mmode\u001b[0m\u001b[0;34m:\u001b[0m\u001b[0;34m\u001b[0m\u001b[0;34m\u001b[0m\u001b[0m\n\u001b[1;32m   1660\u001b[0m                     \u001b[0mmode\u001b[0m \u001b[0;34m+=\u001b[0m \u001b[0;34m\"b\"\u001b[0m\u001b[0;34m\u001b[0m\u001b[0;34m\u001b[0m\u001b[0m\n\u001b[0;32m-> 1661\u001b[0;31m             self.handles = get_handle(\n\u001b[0m\u001b[1;32m   1662\u001b[0m                 \u001b[0mf\u001b[0m\u001b[0;34m,\u001b[0m\u001b[0;34m\u001b[0m\u001b[0;34m\u001b[0m\u001b[0m\n\u001b[1;32m   1663\u001b[0m                 \u001b[0mmode\u001b[0m\u001b[0;34m,\u001b[0m\u001b[0;34m\u001b[0m\u001b[0;34m\u001b[0m\u001b[0m\n",
            "\u001b[0;32m/usr/local/lib/python3.10/dist-packages/pandas/io/common.py\u001b[0m in \u001b[0;36mget_handle\u001b[0;34m(path_or_buf, mode, encoding, compression, memory_map, is_text, errors, storage_options)\u001b[0m\n\u001b[1;32m    857\u001b[0m         \u001b[0;32mif\u001b[0m \u001b[0mioargs\u001b[0m\u001b[0;34m.\u001b[0m\u001b[0mencoding\u001b[0m \u001b[0;32mand\u001b[0m \u001b[0;34m\"b\"\u001b[0m \u001b[0;32mnot\u001b[0m \u001b[0;32min\u001b[0m \u001b[0mioargs\u001b[0m\u001b[0;34m.\u001b[0m\u001b[0mmode\u001b[0m\u001b[0;34m:\u001b[0m\u001b[0;34m\u001b[0m\u001b[0;34m\u001b[0m\u001b[0m\n\u001b[1;32m    858\u001b[0m             \u001b[0;31m# Encoding\u001b[0m\u001b[0;34m\u001b[0m\u001b[0;34m\u001b[0m\u001b[0m\n\u001b[0;32m--> 859\u001b[0;31m             handle = open(\n\u001b[0m\u001b[1;32m    860\u001b[0m                 \u001b[0mhandle\u001b[0m\u001b[0;34m,\u001b[0m\u001b[0;34m\u001b[0m\u001b[0;34m\u001b[0m\u001b[0m\n\u001b[1;32m    861\u001b[0m                 \u001b[0mioargs\u001b[0m\u001b[0;34m.\u001b[0m\u001b[0mmode\u001b[0m\u001b[0;34m,\u001b[0m\u001b[0;34m\u001b[0m\u001b[0;34m\u001b[0m\u001b[0m\n",
            "\u001b[0;31mFileNotFoundError\u001b[0m: [Errno 2] No such file or directory: 'loan_data.csv'"
          ]
        }
      ]
    },
    {
      "cell_type": "code",
      "source": [
        "df.info()"
      ],
      "metadata": {
        "id": "cOK1PTCkIQPC"
      },
      "execution_count": null,
      "outputs": []
    },
    {
      "cell_type": "code",
      "source": [
        "import seaborn as sns\n",
        "import matplotlib.pyplot as plt\n",
        "\n",
        "sns.countplot(data=df,x='purpose',hue='not.fully.paid')\n",
        "plt.xticks(rotation=45, ha='right');"
      ],
      "metadata": {
        "id": "rOH_35l5IWm0"
      },
      "execution_count": null,
      "outputs": []
    },
    {
      "cell_type": "code",
      "source": [
        "pre_df = pd.get_dummies(df,columns=['purpose'],drop_first=True)\n",
        "pre_df.head()"
      ],
      "metadata": {
        "id": "IiSLV9GEJJGM"
      },
      "execution_count": null,
      "outputs": []
    },
    {
      "cell_type": "markdown",
      "source": [
        "ساخت مدل"
      ],
      "metadata": {
        "id": "G5UgnxDVJNOY"
      }
    },
    {
      "cell_type": "code",
      "source": [
        "from sklearn.naive_bayes import GaussianNB\n",
        "\n",
        "model = GaussianNB()\n",
        "\n",
        "model.fit(X_train, y_train);"
      ],
      "metadata": {
        "id": "Sa0rkBKqJRJW"
      },
      "execution_count": null,
      "outputs": []
    },
    {
      "cell_type": "code",
      "source": [
        "from sklearn.metrics import (\n",
        "    accuracy_score,\n",
        "    confusion_matrix,\n",
        "    ConfusionMatrixDisplay,\n",
        "    f1_score,\n",
        "    classification_report,\n",
        ")\n",
        "\n",
        "y_pred = model.predict(X_test)\n",
        "\n",
        "accuray = accuracy_score(y_pred, y_test)\n",
        "f1 = f1_score(y_pred, y_test, average=\"weighted\")\n",
        "\n",
        "print(\"Accuracy:\", accuray)\n",
        "print(\"F1 Score:\", f1)"
      ],
      "metadata": {
        "id": "GZtM4Pe-JYsM"
      },
      "execution_count": null,
      "outputs": []
    },
    {
      "cell_type": "code",
      "source": [
        "labels = [\"Fully Paid\", \"Not fully Paid\"]\n",
        "cm = confusion_matrix(y_test, y_pred)\n",
        "disp = ConfusionMatrixDisplay(confusion_matrix=cm, display_labels=labels)\n",
        "disp.plot();"
      ],
      "metadata": {
        "id": "UgO-F_7jJebZ"
      },
      "execution_count": null,
      "outputs": []
    }
  ]
}